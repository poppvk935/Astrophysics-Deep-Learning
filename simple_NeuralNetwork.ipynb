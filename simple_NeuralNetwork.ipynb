{
  "nbformat": 4,
  "nbformat_minor": 0,
  "metadata": {
    "colab": {
      "provenance": [],
      "authorship_tag": "ABX9TyPFC6fGrBJ1yMms8+gdu4HT",
      "include_colab_link": true
    },
    "kernelspec": {
      "name": "python3",
      "display_name": "Python 3"
    },
    "language_info": {
      "name": "python"
    }
  },
  "cells": [
    {
      "cell_type": "markdown",
      "metadata": {
        "id": "view-in-github",
        "colab_type": "text"
      },
      "source": [
        "<a href=\"https://colab.research.google.com/github/poppvk935/Astrophysics-Deep-Learning/blob/main/simple_NeuralNetwork.ipynb\" target=\"_parent\"><img src=\"https://colab.research.google.com/assets/colab-badge.svg\" alt=\"Open In Colab\"/></a>"
      ]
    },
    {
      "cell_type": "code",
      "execution_count": 13,
      "metadata": {
        "id": "1T2-jehkl3vP"
      },
      "outputs": [],
      "source": [
        "import torch\n",
        "import torch.nn as nn #pytorch neural network library\n",
        "import torch.nn.functional as F\n",
        "\n",
        "#Iris Flower Deep Learning Dataset"
      ]
    },
    {
      "cell_type": "code",
      "source": [
        "#Create a model class that inherits nn.Module\n",
        "class Model(nn.Module):\n",
        "  #Input Layer (4 Features of the flower) -->\n",
        "  #Hidden layer 1(number of nodes) -->\n",
        "  #H2(num of nodes) -->\n",
        "  #Output(3 classes of iris flowers)\n",
        "\n",
        "#  Two underscores before and after init\n",
        "#__init__(self, var name for inputs = number of inputs, var name for hidden layers = number of nodes in layer,var name for outputs = number of outputs)\n",
        "  def __init__(self, in_features=4, h1=8, h2=8, out_features=3):\n",
        "    super().__init__() #instantiate nn.module\n",
        "    self.fc1 = nn.Linear(in_features, h1)\n",
        "    self.fc2 = nn.Linear(h1, h2)\n",
        "    self.out = nn.Linear(h2, out_features)\n",
        "    #moving through the nodes\n",
        "\n",
        "#inherits self\n",
        "  def forward(self, x):\n",
        "      x = F.relu(self.fc1(x))\n",
        "      x = F.relu(self.fc2(x))\n",
        "      x = self.out(x)\n",
        "\n",
        "      return x\n"
      ],
      "metadata": {
        "id": "22v-__sIoNj4"
      },
      "execution_count": 14,
      "outputs": []
    },
    {
      "cell_type": "code",
      "source": [
        "#create a manual seed\n",
        "#   Neural networks need random numbers to start as a seed\n",
        "\n",
        "torch.manual_seed(41)\n",
        "\n",
        "#Create and instance of model\n",
        "\n",
        "model = Model()"
      ],
      "metadata": {
        "id": "J-aQg4ngqcEm"
      },
      "execution_count": 16,
      "outputs": []
    },
    {
      "cell_type": "code",
      "source": [],
      "metadata": {
        "id": "TmJ2MStkqvJI"
      },
      "execution_count": 15,
      "outputs": []
    }
  ]
}