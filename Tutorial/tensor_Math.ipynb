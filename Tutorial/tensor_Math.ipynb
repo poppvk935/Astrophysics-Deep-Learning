{
  "nbformat": 4,
  "nbformat_minor": 0,
  "metadata": {
    "colab": {
      "provenance": [],
      "authorship_tag": "ABX9TyNyc71Epe3R4tOADZRb4CLF",
      "include_colab_link": true
    },
    "kernelspec": {
      "name": "python3",
      "display_name": "Python 3"
    },
    "language_info": {
      "name": "python"
    }
  },
  "cells": [
    {
      "cell_type": "markdown",
      "metadata": {
        "id": "view-in-github",
        "colab_type": "text"
      },
      "source": [
        "<a href=\"https://colab.research.google.com/github/poppvk935/Astrophysics-Deep-Learning/blob/main/tensor_Math.ipynb\" target=\"_parent\"><img src=\"https://colab.research.google.com/assets/colab-badge.svg\" alt=\"Open In Colab\"/></a>"
      ]
    },
    {
      "cell_type": "markdown",
      "source": [
        "**Tensor Math Operations**\n",
        "\n",
        "\n",
        "\n",
        "*   Add, subtract, multiply, divide, remainders, exponents\n",
        "*  Shorthand and longhand\n",
        "*  Reassignment\n",
        "\n"
      ],
      "metadata": {
        "id": "qrjI-mgLhdUg"
      }
    },
    {
      "cell_type": "code",
      "source": [
        "import torch\n",
        "import numpy as np"
      ],
      "metadata": {
        "id": "y9AZIhXNiBSq"
      },
      "execution_count": 2,
      "outputs": []
    },
    {
      "cell_type": "code",
      "source": [
        "tensor_a = torch.tensor([1, 2, 3, 4])\n",
        "tensor_b = torch.tensor([5, 6, 7, 8])"
      ],
      "metadata": {
        "id": "HJaksixKh0uI"
      },
      "execution_count": 3,
      "outputs": []
    },
    {
      "cell_type": "code",
      "source": [
        "#Addition\n",
        "\n",
        "print(tensor_a + tensor_b)\n",
        "\n",
        "print(\"[1+5, 2+6, 3+7, 4+8]\")"
      ],
      "metadata": {
        "colab": {
          "base_uri": "https://localhost:8080/"
        },
        "id": "bLWxK1hUiU0P",
        "outputId": "a6f44477-168b-4ac7-c5ca-a5366ad6b294"
      },
      "execution_count": 6,
      "outputs": [
        {
          "output_type": "stream",
          "name": "stdout",
          "text": [
            "tensor([ 6,  8, 10, 12])\n",
            "[1+5, 2+6, 3+7, 4+8]\n"
          ]
        }
      ]
    },
    {
      "cell_type": "code",
      "source": [
        "#Addition longhand\n",
        "torch.add(tensor_a, tensor_b)"
      ],
      "metadata": {
        "colab": {
          "base_uri": "https://localhost:8080/"
        },
        "id": "6C4vj9I2ir3W",
        "outputId": "a093565c-6c28-446d-9ac4-5e2859ec6d17"
      },
      "execution_count": 7,
      "outputs": [
        {
          "output_type": "execute_result",
          "data": {
            "text/plain": [
              "tensor([ 6,  8, 10, 12])"
            ]
          },
          "metadata": {},
          "execution_count": 7
        }
      ]
    }
  ]
}
